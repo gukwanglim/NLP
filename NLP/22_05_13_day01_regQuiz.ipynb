{
 "cells": [
  {
   "cell_type": "code",
   "execution_count": 50,
   "metadata": {
    "colab": {
     "base_uri": "https://localhost:8080/"
    },
    "executionInfo": {
     "elapsed": 3,
     "status": "ok",
     "timestamp": 1652427795101,
     "user": {
      "displayName": "Kwanglim Gu",
      "userId": "14946455916529306556"
     },
     "user_tz": -540
    },
    "id": "9kzE_t_guJPW",
    "outputId": "a85b5ade-3e8e-4da5-9615-13a671737624"
   },
   "outputs": [
    {
     "name": "stdout",
     "output_type": "stream",
     "text": [
      "['2', '0', '2', '2', '0', '5', '1', '3']\n",
      "['f', 'r', 'i', 'd', 'a', 'y']\n"
     ]
    }
   ],
   "source": [
    "import re\n",
    "\n",
    "# 1\n",
    "# 숫자 찾기\n",
    "example = '2022 05 13 friday'\n",
    "print(re.findall('\\d', example))\n",
    "\n",
    "# 숫자가 아닌 것 찾기\n",
    "print(re.findall('([a-z])', example))"
   ]
  },
  {
   "cell_type": "code",
   "execution_count": 62,
   "metadata": {
    "colab": {
     "base_uri": "https://localhost:8080/"
    },
    "executionInfo": {
     "elapsed": 274,
     "status": "ok",
     "timestamp": 1652428325453,
     "user": {
      "displayName": "Kwanglim Gu",
      "userId": "14946455916529306556"
     },
     "user_tz": -540
    },
    "id": "DGBJqugruljt",
    "outputId": "5e84ecdd-03f5-44bf-9a6f-096e36a3a4c1"
   },
   "outputs": [
    {
     "name": "stdout",
     "output_type": "stream",
     "text": [
      "['hreeee@yonsei.ac.kr', 'hreeee@gmail.com']\n"
     ]
    }
   ],
   "source": [
    "# 2\n",
    "\n",
    "# 이메일 주소를 찾기\n",
    "example = '제 이메일은 hreeee@yonsei.ac.kr 입니다. hreeee@gmail.com으로 변경되었습니다.'\n",
    "print(re.findall('[a-z]+@[a-z]+.[a-z]+.[a-z]+', example))"
   ]
  },
  {
   "cell_type": "code",
   "execution_count": 61,
   "metadata": {
    "colab": {
     "base_uri": "https://localhost:8080/"
    },
    "executionInfo": {
     "elapsed": 398,
     "status": "ok",
     "timestamp": 1652428256794,
     "user": {
      "displayName": "Kwanglim Gu",
      "userId": "14946455916529306556"
     },
     "user_tz": -540
    },
    "id": "CkM7QWwYMzLt",
    "outputId": "9eafdb51-5569-46a4-c3df-41e2d9d8735b"
   },
   "outputs": [
    {
     "name": "stdout",
     "output_type": "stream",
     "text": [
      "['https://www.google.com/', 'https://www.naver.com/']\n"
     ]
    }
   ],
   "source": [
    "# 3\n",
    "\n",
    "# URL 찾기\n",
    "example = 'https://www.google.com/에 네이버 검색하시면 https://www.naver.com/이 상단에 노출됩니다.'\n",
    "print(re.findall('\\w+:+//\\w+.\\w+.\\w+/', example))"
   ]
  },
  {
   "cell_type": "code",
   "execution_count": 56,
   "metadata": {
    "colab": {
     "base_uri": "https://localhost:8080/"
    },
    "executionInfo": {
     "elapsed": 252,
     "status": "ok",
     "timestamp": 1652428105204,
     "user": {
      "displayName": "Kwanglim Gu",
      "userId": "14946455916529306556"
     },
     "user_tz": -540
    },
    "id": "B1X4AlRxM6TW",
    "outputId": "afb3e614-6444-4710-96c6-25be1ced1f3a"
   },
   "outputs": [
    {
     "name": "stdout",
     "output_type": "stream",
     "text": [
      "['sonata01.png', 'avante02.jpg', 'socar2021.gif']\n"
     ]
    }
   ],
   "source": [
    "# 4\n",
    "\n",
    "# 파일 찾기\n",
    "example = '제 바탕화면 보시면 sonata01.png 파일과 avante02.jpg 파일 그리고 socar2021.gif 파일이 존재합니다.'\n",
    "print(re.findall('([a-z0-9]+.[a-z]+)', example))"
   ]
  },
  {
   "cell_type": "code",
   "execution_count": null,
   "metadata": {
    "id": "-4DvW70-M9XO"
   },
   "outputs": [],
   "source": []
  }
 ],
 "metadata": {
  "colab": {
   "collapsed_sections": [],
   "name": "22_05_13_day01_regQuiz의 사본",
   "provenance": []
  },
  "kernelspec": {
   "display_name": "Python 3 (ipykernel)",
   "language": "python",
   "name": "python3"
  },
  "language_info": {
   "codemirror_mode": {
    "name": "ipython",
    "version": 3
   },
   "file_extension": ".py",
   "mimetype": "text/x-python",
   "name": "python",
   "nbconvert_exporter": "python",
   "pygments_lexer": "ipython3",
   "version": "3.9.7"
  }
 },
 "nbformat": 4,
 "nbformat_minor": 1
}
