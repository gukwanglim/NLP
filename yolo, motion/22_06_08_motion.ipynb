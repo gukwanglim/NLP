{
 "cells": [
  {
   "cell_type": "markdown",
   "id": "ba8b3e60",
   "metadata": {},
   "source": [
    "[mediapipe](https://google.github.io/mediapipe/)"
   ]
  },
  {
   "cell_type": "code",
   "execution_count": 1,
   "id": "927079b2",
   "metadata": {},
   "outputs": [
    {
     "name": "stdout",
     "output_type": "stream",
     "text": [
      "Collecting mediapipe\n",
      "  Downloading mediapipe-0.8.10-cp37-cp37m-win_amd64.whl (48.6 MB)\n",
      "Requirement already satisfied: protobuf>=3.11.4 in c:\\users\\ygl\\anaconda3\\lib\\site-packages (from mediapipe) (3.20.0)\n",
      "Requirement already satisfied: attrs>=19.1.0 in c:\\users\\ygl\\anaconda3\\lib\\site-packages (from mediapipe) (21.4.0)\n",
      "Collecting opencv-contrib-python\n",
      "  Downloading opencv_contrib_python-4.5.5.64-cp36-abi3-win_amd64.whl (42.2 MB)\n",
      "Requirement already satisfied: numpy in c:\\users\\ygl\\anaconda3\\lib\\site-packages (from mediapipe) (1.21.5)\n",
      "Requirement already satisfied: matplotlib in c:\\users\\ygl\\anaconda3\\lib\\site-packages (from mediapipe) (3.5.1)\n",
      "Requirement already satisfied: absl-py in c:\\users\\ygl\\anaconda3\\lib\\site-packages (from mediapipe) (1.0.0)\n",
      "Requirement already satisfied: six in c:\\users\\ygl\\anaconda3\\lib\\site-packages (from absl-py->mediapipe) (1.16.0)\n",
      "Requirement already satisfied: pyparsing>=2.2.1 in c:\\users\\ygl\\anaconda3\\lib\\site-packages (from matplotlib->mediapipe) (3.0.4)\n",
      "Requirement already satisfied: pillow>=6.2.0 in c:\\users\\ygl\\anaconda3\\lib\\site-packages (from matplotlib->mediapipe) (9.0.1)\n",
      "Requirement already satisfied: fonttools>=4.22.0 in c:\\users\\ygl\\anaconda3\\lib\\site-packages (from matplotlib->mediapipe) (4.25.0)\n",
      "Requirement already satisfied: packaging>=20.0 in c:\\users\\ygl\\anaconda3\\lib\\site-packages (from matplotlib->mediapipe) (21.3)\n",
      "Requirement already satisfied: python-dateutil>=2.7 in c:\\users\\ygl\\anaconda3\\lib\\site-packages (from matplotlib->mediapipe) (2.8.2)\n",
      "Requirement already satisfied: kiwisolver>=1.0.1 in c:\\users\\ygl\\anaconda3\\lib\\site-packages (from matplotlib->mediapipe) (1.3.2)\n",
      "Requirement already satisfied: cycler>=0.10 in c:\\users\\ygl\\anaconda3\\lib\\site-packages (from matplotlib->mediapipe) (0.11.0)\n",
      "Installing collected packages: opencv-contrib-python, mediapipe\n",
      "Successfully installed mediapipe-0.8.10 opencv-contrib-python-4.5.5.64\n"
     ]
    }
   ],
   "source": [
    "!pip install mediapipe"
   ]
  },
  {
   "cell_type": "code",
   "execution_count": 3,
   "id": "6dee8ee0",
   "metadata": {},
   "outputs": [],
   "source": [
    "import cv2, sys\n",
    "import mediapipe as mp"
   ]
  },
  {
   "cell_type": "code",
   "execution_count": 5,
   "id": "5cec62df",
   "metadata": {},
   "outputs": [],
   "source": [
    "mp_drawing = mp.solutions.drawing_utils\n",
    "mp_drawing_style = mp.solutions.drawing_styles\n",
    "mp_hands = mp.solutions.hands"
   ]
  },
  {
   "cell_type": "code",
   "execution_count": 24,
   "id": "ea826924",
   "metadata": {},
   "outputs": [],
   "source": [
    "cap = cv2.VideoCapture(0)\n",
    "\n",
    "if not cap.isOpened():\n",
    "    print('Video opend failed')\n",
    "    sys.exit()\n",
    "    \n",
    "with mp_hands.Hands(\n",
    "        static_image_mode = False,\n",
    "        max_num_hands = 2,\n",
    "        model_complexity = 0,                 # 1일 경우 정확하지만 속도가 느려짐\n",
    "        min_detection_confidence = 0.5,\n",
    "        min_tracking_confidence = 0.5) as hands:\n",
    "    \n",
    "    while cap.isOpened():\n",
    "        ret, image = cap.read()\n",
    "        \n",
    "        if not ret:\n",
    "            print('Image open failed')\n",
    "            break\n",
    "            \n",
    "        image = cv2.cvtColor(image, cv2.COLOR_BGR2RGB)\n",
    "        \n",
    "        results = hands.process(image)                       # 손가락의 포인트\n",
    "        \n",
    "        image = cv2.cvtColor(image, cv2.COLOR_RGB2BGR)\n",
    "        \n",
    "        if results.multi_hand_landmarks:\n",
    "            for hands_landmarks in results.multi_hand_landmarks:\n",
    "                mp_drawing.draw_landmarks(\n",
    "                    image,\n",
    "                    hands_landmarks,\n",
    "                    mp_hands.HAND_CONNECTIONS,\n",
    "                    mp_drawing_style.get_default_hand_landmarks_style(),\n",
    "                    mp_drawing_style.get_default_hand_connections_style()\n",
    "            )\n",
    "                \n",
    "        cv2.imshow('image', cv2.flip(image, 1))            # 좌우 flip(대칭)\n",
    "        \n",
    "        if cv2.waitKey(20) == 27:\n",
    "            break\n",
    "            \n",
    "cap.release()\n",
    "cv2.destroyAllWindows()"
   ]
  },
  {
   "cell_type": "code",
   "execution_count": 27,
   "id": "5c6fb996",
   "metadata": {},
   "outputs": [],
   "source": [
    "results.multi_hand_landmarks\n",
    "# [0].landmark[mp_hands.HandLandmark.INDEXFINGER_TIP]"
   ]
  }
 ],
 "metadata": {
  "kernelspec": {
   "display_name": "Python 3 (ipykernel)",
   "language": "python",
   "name": "python3"
  },
  "language_info": {
   "codemirror_mode": {
    "name": "ipython",
    "version": 3
   },
   "file_extension": ".py",
   "mimetype": "text/x-python",
   "name": "python",
   "nbconvert_exporter": "python",
   "pygments_lexer": "ipython3",
   "version": "3.7.11"
  }
 },
 "nbformat": 4,
 "nbformat_minor": 5
}
